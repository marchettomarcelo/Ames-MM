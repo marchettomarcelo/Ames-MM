{
 "cells": [
  {
   "cell_type": "code",
   "execution_count": 1,
   "metadata": {},
   "outputs": [],
   "source": [
    "import pickle\n",
    "import pathlib\n",
    "\n",
    "import numpy as np\n",
    "import pandas as pd"
   ]
  },
  {
   "cell_type": "markdown",
   "metadata": {},
   "source": [
    "# Preparando os dados"
   ]
  },
  {
   "cell_type": "code",
   "execution_count": 48,
   "metadata": {},
   "outputs": [
    {
     "name": "stdout",
     "output_type": "stream",
     "text": [
      "/Users/marcelomarchetto/Desktop/ml/Ames-MM/data\n"
     ]
    }
   ],
   "source": [
    "DATA_DIR = pathlib.Path.cwd().parent / 'data'\n",
    "print(DATA_DIR)\n",
    "\n",
    "clean_data_path = DATA_DIR / 'processed' / 'ames_clean.pkl'\n",
    "\n",
    "with open(clean_data_path, 'rb') as file:\n",
    "    data = pickle.load(file)"
   ]
  },
  {
   "cell_type": "code",
   "execution_count": 49,
   "metadata": {},
   "outputs": [
    {
     "name": "stdout",
     "output_type": "stream",
     "text": [
      "<class 'pandas.core.frame.DataFrame'>\n",
      "Int64Index: 2877 entries, 0 to 2929\n",
      "Data columns (total 70 columns):\n",
      " #   Column           Non-Null Count  Dtype   \n",
      "---  ------           --------------  -----   \n",
      " 0   MS.SubClass      2877 non-null   category\n",
      " 1   MS.Zoning        2877 non-null   category\n",
      " 2   Lot.Frontage     2877 non-null   float64 \n",
      " 3   Lot.Area         2877 non-null   float64 \n",
      " 4   Lot.Shape        2877 non-null   category\n",
      " 5   Land.Contour     2877 non-null   category\n",
      " 6   Lot.Config       2877 non-null   category\n",
      " 7   Land.Slope       2877 non-null   category\n",
      " 8   Neighborhood     2877 non-null   category\n",
      " 9   Bldg.Type        2877 non-null   category\n",
      " 10  House.Style      2877 non-null   category\n",
      " 11  Overall.Qual     2877 non-null   category\n",
      " 12  Overall.Cond     2877 non-null   category\n",
      " 13  Roof.Style       2877 non-null   category\n",
      " 14  Mas.Vnr.Type     2877 non-null   category\n",
      " 15  Mas.Vnr.Area     2877 non-null   float64 \n",
      " 16  Exter.Qual       2877 non-null   category\n",
      " 17  Exter.Cond       2877 non-null   category\n",
      " 18  Foundation       2877 non-null   category\n",
      " 19  Bsmt.Qual        2877 non-null   category\n",
      " 20  Bsmt.Cond        2877 non-null   category\n",
      " 21  Bsmt.Exposure    2877 non-null   category\n",
      " 22  BsmtFin.Type.1   2877 non-null   category\n",
      " 23  BsmtFin.SF.1     2877 non-null   float64 \n",
      " 24  BsmtFin.Type.2   2877 non-null   category\n",
      " 25  BsmtFin.SF.2     2877 non-null   float64 \n",
      " 26  Bsmt.Unf.SF      2877 non-null   float64 \n",
      " 27  Total.Bsmt.SF    2877 non-null   float64 \n",
      " 28  Heating.QC       2877 non-null   category\n",
      " 29  Central.Air      2877 non-null   category\n",
      " 30  Electrical       2877 non-null   category\n",
      " 31  X1st.Flr.SF      2877 non-null   float64 \n",
      " 32  X2nd.Flr.SF      2877 non-null   float64 \n",
      " 33  Low.Qual.Fin.SF  2877 non-null   float64 \n",
      " 34  Gr.Liv.Area      2877 non-null   float64 \n",
      " 35  Bsmt.Full.Bath   2877 non-null   float64 \n",
      " 36  Bsmt.Half.Bath   2877 non-null   float64 \n",
      " 37  Full.Bath        2877 non-null   float64 \n",
      " 38  Half.Bath        2877 non-null   float64 \n",
      " 39  Bedroom.AbvGr    2877 non-null   float64 \n",
      " 40  Kitchen.AbvGr    2877 non-null   float64 \n",
      " 41  Kitchen.Qual     2877 non-null   category\n",
      " 42  TotRms.AbvGrd    2877 non-null   float64 \n",
      " 43  Functional       2877 non-null   category\n",
      " 44  Fireplaces       2877 non-null   float64 \n",
      " 45  Garage.Type      2877 non-null   category\n",
      " 46  Garage.Finish    2877 non-null   category\n",
      " 47  Garage.Cars      2877 non-null   float64 \n",
      " 48  Garage.Area      2877 non-null   float64 \n",
      " 49  Paved.Drive      2877 non-null   category\n",
      " 50  Wood.Deck.SF     2877 non-null   float64 \n",
      " 51  Open.Porch.SF    2877 non-null   float64 \n",
      " 52  Enclosed.Porch   2877 non-null   float64 \n",
      " 53  X3Ssn.Porch      2877 non-null   float64 \n",
      " 54  Screen.Porch     2877 non-null   float64 \n",
      " 55  Pool.Area        2877 non-null   float64 \n",
      " 56  Fence            2877 non-null   category\n",
      " 57  Misc.Val         2877 non-null   float64 \n",
      " 58  Mo.Sold          2877 non-null   float64 \n",
      " 59  Yr.Sold          2877 non-null   float64 \n",
      " 60  Sale.Type        2877 non-null   category\n",
      " 61  Sale.Condition   2877 non-null   category\n",
      " 62  SalePrice        2877 non-null   float64 \n",
      " 63  Condition        2877 non-null   category\n",
      " 64  HasShed          2877 non-null   bool    \n",
      " 65  HasAlley         2877 non-null   bool    \n",
      " 66  Exterior         2877 non-null   category\n",
      " 67  Garage.Age       2877 non-null   float64 \n",
      " 68  Remod.Age        2877 non-null   float64 \n",
      " 69  House.Age        2877 non-null   float64 \n",
      "dtypes: bool(2), category(34), float64(34)\n",
      "memory usage: 889.4 KB\n"
     ]
    }
   ],
   "source": [
    "data.info()"
   ]
  },
  {
   "cell_type": "code",
   "execution_count": 4,
   "metadata": {},
   "outputs": [],
   "source": [
    "model_data = data.copy()"
   ]
  },
  {
   "cell_type": "code",
   "execution_count": 5,
   "metadata": {},
   "outputs": [],
   "source": [
    "categorical_columns = []\n",
    "ordinal_columns = []\n",
    "for col in model_data.select_dtypes('category').columns:\n",
    "    if model_data[col].cat.ordered:\n",
    "        ordinal_columns.append(col)\n",
    "    else:\n",
    "        categorical_columns.append(col)"
   ]
  },
  {
   "cell_type": "code",
   "execution_count": 6,
   "metadata": {},
   "outputs": [
    {
     "data": {
      "text/plain": [
       "['Lot.Shape',\n",
       " 'Land.Slope',\n",
       " 'Overall.Qual',\n",
       " 'Overall.Cond',\n",
       " 'Exter.Qual',\n",
       " 'Exter.Cond',\n",
       " 'Heating.QC',\n",
       " 'Electrical',\n",
       " 'Kitchen.Qual',\n",
       " 'Functional',\n",
       " 'Paved.Drive',\n",
       " 'Fence']"
      ]
     },
     "execution_count": 6,
     "metadata": {},
     "output_type": "execute_result"
    }
   ],
   "source": [
    "ordinal_columns"
   ]
  },
  {
   "cell_type": "code",
   "execution_count": 7,
   "metadata": {},
   "outputs": [
    {
     "data": {
      "text/plain": [
       "['MS.SubClass',\n",
       " 'MS.Zoning',\n",
       " 'Land.Contour',\n",
       " 'Lot.Config',\n",
       " 'Neighborhood',\n",
       " 'Bldg.Type',\n",
       " 'House.Style',\n",
       " 'Roof.Style',\n",
       " 'Mas.Vnr.Type',\n",
       " 'Foundation',\n",
       " 'Bsmt.Qual',\n",
       " 'Bsmt.Cond',\n",
       " 'Bsmt.Exposure',\n",
       " 'BsmtFin.Type.1',\n",
       " 'BsmtFin.Type.2',\n",
       " 'Central.Air',\n",
       " 'Garage.Type',\n",
       " 'Garage.Finish',\n",
       " 'Sale.Type',\n",
       " 'Sale.Condition',\n",
       " 'Condition',\n",
       " 'Exterior']"
      ]
     },
     "execution_count": 7,
     "metadata": {},
     "output_type": "execute_result"
    }
   ],
   "source": [
    "categorical_columns"
   ]
  },
  {
   "cell_type": "code",
   "execution_count": 8,
   "metadata": {},
   "outputs": [],
   "source": [
    "for col in ordinal_columns:\n",
    "    codes, _ = pd.factorize(data[col], sort=True)\n",
    "    model_data[col] = codes"
   ]
  },
  {
   "cell_type": "code",
   "execution_count": 9,
   "metadata": {},
   "outputs": [
    {
     "name": "stdout",
     "output_type": "stream",
     "text": [
      "<class 'pandas.core.frame.DataFrame'>\n",
      "Index: 2877 entries, 0 to 2929\n",
      "Data columns (total 12 columns):\n",
      " #   Column        Non-Null Count  Dtype\n",
      "---  ------        --------------  -----\n",
      " 0   Lot.Shape     2877 non-null   int64\n",
      " 1   Land.Slope    2877 non-null   int64\n",
      " 2   Overall.Qual  2877 non-null   int64\n",
      " 3   Overall.Cond  2877 non-null   int64\n",
      " 4   Exter.Qual    2877 non-null   int64\n",
      " 5   Exter.Cond    2877 non-null   int64\n",
      " 6   Heating.QC    2877 non-null   int64\n",
      " 7   Electrical    2877 non-null   int64\n",
      " 8   Kitchen.Qual  2877 non-null   int64\n",
      " 9   Functional    2877 non-null   int64\n",
      " 10  Paved.Drive   2877 non-null   int64\n",
      " 11  Fence         2877 non-null   int64\n",
      "dtypes: int64(12)\n",
      "memory usage: 292.2 KB\n"
     ]
    }
   ],
   "source": [
    "model_data[ordinal_columns].info()"
   ]
  },
  {
   "cell_type": "code",
   "execution_count": 10,
   "metadata": {},
   "outputs": [
    {
     "data": {
      "text/plain": [
       "Lot.Shape\n",
       "Reg    1825\n",
       "IR1     960\n",
       "IR2      76\n",
       "IR3      16\n",
       "Name: count, dtype: int64"
      ]
     },
     "execution_count": 10,
     "metadata": {},
     "output_type": "execute_result"
    }
   ],
   "source": [
    "data['Lot.Shape'].value_counts()"
   ]
  },
  {
   "cell_type": "code",
   "execution_count": 11,
   "metadata": {},
   "outputs": [
    {
     "data": {
      "text/plain": [
       "Lot.Shape\n",
       "0    1825\n",
       "1     960\n",
       "2      76\n",
       "3      16\n",
       "Name: count, dtype: int64"
      ]
     },
     "execution_count": 11,
     "metadata": {},
     "output_type": "execute_result"
    }
   ],
   "source": [
    "model_data['Lot.Shape'].value_counts()"
   ]
  },
  {
   "cell_type": "code",
   "execution_count": 12,
   "metadata": {},
   "outputs": [
    {
     "data": {
      "text/plain": [
       "Exterior\n",
       "VinylSd    1024\n",
       "HdBoard     439\n",
       "MetalSd     432\n",
       "Wd Sdng     401\n",
       "Plywood     218\n",
       "CemntBd     126\n",
       "BrkFace      86\n",
       "WdShing      55\n",
       "Stucco       42\n",
       "AsbShng      41\n",
       "Other        13\n",
       "Name: count, dtype: int64"
      ]
     },
     "execution_count": 12,
     "metadata": {},
     "output_type": "execute_result"
    }
   ],
   "source": [
    "model_data['Exterior'].value_counts()"
   ]
  },
  {
   "cell_type": "code",
   "execution_count": 13,
   "metadata": {},
   "outputs": [
    {
     "data": {
      "text/html": [
       "<div>\n",
       "<style scoped>\n",
       "    .dataframe tbody tr th:only-of-type {\n",
       "        vertical-align: middle;\n",
       "    }\n",
       "\n",
       "    .dataframe tbody tr th {\n",
       "        vertical-align: top;\n",
       "    }\n",
       "\n",
       "    .dataframe thead th {\n",
       "        text-align: right;\n",
       "    }\n",
       "</style>\n",
       "<table border=\"1\" class=\"dataframe\">\n",
       "  <thead>\n",
       "    <tr style=\"text-align: right;\">\n",
       "      <th></th>\n",
       "      <th>0</th>\n",
       "      <th>1</th>\n",
       "      <th>2</th>\n",
       "      <th>3</th>\n",
       "      <th>4</th>\n",
       "    </tr>\n",
       "  </thead>\n",
       "  <tbody>\n",
       "    <tr>\n",
       "      <th>AsbShng</th>\n",
       "      <td>False</td>\n",
       "      <td>False</td>\n",
       "      <td>False</td>\n",
       "      <td>False</td>\n",
       "      <td>False</td>\n",
       "    </tr>\n",
       "    <tr>\n",
       "      <th>BrkFace</th>\n",
       "      <td>True</td>\n",
       "      <td>False</td>\n",
       "      <td>False</td>\n",
       "      <td>True</td>\n",
       "      <td>False</td>\n",
       "    </tr>\n",
       "    <tr>\n",
       "      <th>CemntBd</th>\n",
       "      <td>False</td>\n",
       "      <td>False</td>\n",
       "      <td>False</td>\n",
       "      <td>False</td>\n",
       "      <td>False</td>\n",
       "    </tr>\n",
       "    <tr>\n",
       "      <th>HdBoard</th>\n",
       "      <td>False</td>\n",
       "      <td>False</td>\n",
       "      <td>False</td>\n",
       "      <td>False</td>\n",
       "      <td>False</td>\n",
       "    </tr>\n",
       "    <tr>\n",
       "      <th>MetalSd</th>\n",
       "      <td>False</td>\n",
       "      <td>False</td>\n",
       "      <td>False</td>\n",
       "      <td>False</td>\n",
       "      <td>False</td>\n",
       "    </tr>\n",
       "    <tr>\n",
       "      <th>Plywood</th>\n",
       "      <td>False</td>\n",
       "      <td>False</td>\n",
       "      <td>False</td>\n",
       "      <td>False</td>\n",
       "      <td>False</td>\n",
       "    </tr>\n",
       "    <tr>\n",
       "      <th>Stucco</th>\n",
       "      <td>False</td>\n",
       "      <td>False</td>\n",
       "      <td>False</td>\n",
       "      <td>False</td>\n",
       "      <td>False</td>\n",
       "    </tr>\n",
       "    <tr>\n",
       "      <th>VinylSd</th>\n",
       "      <td>False</td>\n",
       "      <td>True</td>\n",
       "      <td>False</td>\n",
       "      <td>False</td>\n",
       "      <td>True</td>\n",
       "    </tr>\n",
       "    <tr>\n",
       "      <th>Wd Sdng</th>\n",
       "      <td>False</td>\n",
       "      <td>False</td>\n",
       "      <td>True</td>\n",
       "      <td>False</td>\n",
       "      <td>False</td>\n",
       "    </tr>\n",
       "    <tr>\n",
       "      <th>WdShing</th>\n",
       "      <td>False</td>\n",
       "      <td>False</td>\n",
       "      <td>False</td>\n",
       "      <td>False</td>\n",
       "      <td>False</td>\n",
       "    </tr>\n",
       "    <tr>\n",
       "      <th>Other</th>\n",
       "      <td>False</td>\n",
       "      <td>False</td>\n",
       "      <td>False</td>\n",
       "      <td>False</td>\n",
       "      <td>False</td>\n",
       "    </tr>\n",
       "    <tr>\n",
       "      <th>Exterior</th>\n",
       "      <td>BrkFace</td>\n",
       "      <td>VinylSd</td>\n",
       "      <td>Wd Sdng</td>\n",
       "      <td>BrkFace</td>\n",
       "      <td>VinylSd</td>\n",
       "    </tr>\n",
       "  </tbody>\n",
       "</table>\n",
       "</div>"
      ],
      "text/plain": [
       "                0        1        2        3        4\n",
       "AsbShng     False    False    False    False    False\n",
       "BrkFace      True    False    False     True    False\n",
       "CemntBd     False    False    False    False    False\n",
       "HdBoard     False    False    False    False    False\n",
       "MetalSd     False    False    False    False    False\n",
       "Plywood     False    False    False    False    False\n",
       "Stucco      False    False    False    False    False\n",
       "VinylSd     False     True    False    False     True\n",
       "Wd Sdng     False    False     True    False    False\n",
       "WdShing     False    False    False    False    False\n",
       "Other       False    False    False    False    False\n",
       "Exterior  BrkFace  VinylSd  Wd Sdng  BrkFace  VinylSd"
      ]
     },
     "execution_count": 13,
     "metadata": {},
     "output_type": "execute_result"
    }
   ],
   "source": [
    "original_data = model_data['Exterior']\n",
    "encoded_data = pd.get_dummies(original_data)\n",
    "\n",
    "aux_dataframe = encoded_data\n",
    "aux_dataframe['Exterior'] = original_data.copy()\n",
    "\n",
    "aux_dataframe.head().transpose()"
   ]
  },
  {
   "cell_type": "code",
   "execution_count": 14,
   "metadata": {},
   "outputs": [
    {
     "data": {
      "text/html": [
       "<div>\n",
       "<style scoped>\n",
       "    .dataframe tbody tr th:only-of-type {\n",
       "        vertical-align: middle;\n",
       "    }\n",
       "\n",
       "    .dataframe tbody tr th {\n",
       "        vertical-align: top;\n",
       "    }\n",
       "\n",
       "    .dataframe thead th {\n",
       "        text-align: right;\n",
       "    }\n",
       "</style>\n",
       "<table border=\"1\" class=\"dataframe\">\n",
       "  <thead>\n",
       "    <tr style=\"text-align: right;\">\n",
       "      <th></th>\n",
       "      <th>0</th>\n",
       "      <th>1</th>\n",
       "      <th>2</th>\n",
       "      <th>3</th>\n",
       "      <th>4</th>\n",
       "    </tr>\n",
       "  </thead>\n",
       "  <tbody>\n",
       "    <tr>\n",
       "      <th>BrkFace</th>\n",
       "      <td>True</td>\n",
       "      <td>False</td>\n",
       "      <td>False</td>\n",
       "      <td>True</td>\n",
       "      <td>False</td>\n",
       "    </tr>\n",
       "    <tr>\n",
       "      <th>CemntBd</th>\n",
       "      <td>False</td>\n",
       "      <td>False</td>\n",
       "      <td>False</td>\n",
       "      <td>False</td>\n",
       "      <td>False</td>\n",
       "    </tr>\n",
       "    <tr>\n",
       "      <th>HdBoard</th>\n",
       "      <td>False</td>\n",
       "      <td>False</td>\n",
       "      <td>False</td>\n",
       "      <td>False</td>\n",
       "      <td>False</td>\n",
       "    </tr>\n",
       "    <tr>\n",
       "      <th>MetalSd</th>\n",
       "      <td>False</td>\n",
       "      <td>False</td>\n",
       "      <td>False</td>\n",
       "      <td>False</td>\n",
       "      <td>False</td>\n",
       "    </tr>\n",
       "    <tr>\n",
       "      <th>Plywood</th>\n",
       "      <td>False</td>\n",
       "      <td>False</td>\n",
       "      <td>False</td>\n",
       "      <td>False</td>\n",
       "      <td>False</td>\n",
       "    </tr>\n",
       "    <tr>\n",
       "      <th>Stucco</th>\n",
       "      <td>False</td>\n",
       "      <td>False</td>\n",
       "      <td>False</td>\n",
       "      <td>False</td>\n",
       "      <td>False</td>\n",
       "    </tr>\n",
       "    <tr>\n",
       "      <th>VinylSd</th>\n",
       "      <td>False</td>\n",
       "      <td>True</td>\n",
       "      <td>False</td>\n",
       "      <td>False</td>\n",
       "      <td>True</td>\n",
       "    </tr>\n",
       "    <tr>\n",
       "      <th>Wd Sdng</th>\n",
       "      <td>False</td>\n",
       "      <td>False</td>\n",
       "      <td>True</td>\n",
       "      <td>False</td>\n",
       "      <td>False</td>\n",
       "    </tr>\n",
       "    <tr>\n",
       "      <th>WdShing</th>\n",
       "      <td>False</td>\n",
       "      <td>False</td>\n",
       "      <td>False</td>\n",
       "      <td>False</td>\n",
       "      <td>False</td>\n",
       "    </tr>\n",
       "    <tr>\n",
       "      <th>Other</th>\n",
       "      <td>False</td>\n",
       "      <td>False</td>\n",
       "      <td>False</td>\n",
       "      <td>False</td>\n",
       "      <td>False</td>\n",
       "    </tr>\n",
       "    <tr>\n",
       "      <th>Exterior</th>\n",
       "      <td>BrkFace</td>\n",
       "      <td>VinylSd</td>\n",
       "      <td>Wd Sdng</td>\n",
       "      <td>BrkFace</td>\n",
       "      <td>VinylSd</td>\n",
       "    </tr>\n",
       "  </tbody>\n",
       "</table>\n",
       "</div>"
      ],
      "text/plain": [
       "                0        1        2        3        4\n",
       "BrkFace      True    False    False     True    False\n",
       "CemntBd     False    False    False    False    False\n",
       "HdBoard     False    False    False    False    False\n",
       "MetalSd     False    False    False    False    False\n",
       "Plywood     False    False    False    False    False\n",
       "Stucco      False    False    False    False    False\n",
       "VinylSd     False     True    False    False     True\n",
       "Wd Sdng     False    False     True    False    False\n",
       "WdShing     False    False    False    False    False\n",
       "Other       False    False    False    False    False\n",
       "Exterior  BrkFace  VinylSd  Wd Sdng  BrkFace  VinylSd"
      ]
     },
     "execution_count": 14,
     "metadata": {},
     "output_type": "execute_result"
    }
   ],
   "source": [
    "original_data = model_data['Exterior']\n",
    "encoded_data = pd.get_dummies(original_data, drop_first=True)\n",
    "\n",
    "aux_dataframe = encoded_data\n",
    "aux_dataframe['Exterior'] = original_data.copy()\n",
    "\n",
    "aux_dataframe.head().transpose()"
   ]
  },
  {
   "cell_type": "code",
   "execution_count": 15,
   "metadata": {},
   "outputs": [],
   "source": [
    "model_test = model_data.copy()\n",
    "model_data = pd.get_dummies(model_data, drop_first=True)"
   ]
  },
  {
   "cell_type": "code",
   "execution_count": 16,
   "metadata": {},
   "outputs": [
    {
     "name": "stdout",
     "output_type": "stream",
     "text": [
      "From column \"MS.SubClass\" we made \"MS.SubClass_30\", \"MS.SubClass_50\", \"MS.SubClass_60\", \"MS.SubClass_70\", \"MS.SubClass_80\", \"MS.SubClass_85\", \"MS.SubClass_90\", \"MS.SubClass_120\", \"MS.SubClass_160\", \"MS.SubClass_190\", \"MS.SubClass_Other\"\n",
      "\n",
      "From column \"MS.Zoning\" we made \"MS.Zoning_RH\", \"MS.Zoning_RL\", \"MS.Zoning_RM\"\n",
      "\n",
      "From column \"Land.Contour\" we made \"Land.Contour_HLS\", \"Land.Contour_Low\", \"Land.Contour_Lvl\"\n",
      "\n",
      "From column \"Lot.Config\" we made \"Lot.Config_CulDSac\", \"Lot.Config_FR2\", \"Lot.Config_FR3\", \"Lot.Config_Inside\"\n",
      "\n",
      "From column \"Neighborhood\" we made \"Neighborhood_BrDale\", \"Neighborhood_BrkSide\", \"Neighborhood_ClearCr\", \"Neighborhood_CollgCr\", \"Neighborhood_Crawfor\", \"Neighborhood_Edwards\", \"Neighborhood_Gilbert\", \"Neighborhood_IDOTRR\", \"Neighborhood_MeadowV\", \"Neighborhood_Mitchel\", \"Neighborhood_NAmes\", \"Neighborhood_NPkVill\", \"Neighborhood_NWAmes\", \"Neighborhood_NoRidge\", \"Neighborhood_NridgHt\", \"Neighborhood_OldTown\", \"Neighborhood_SWISU\", \"Neighborhood_Sawyer\", \"Neighborhood_SawyerW\", \"Neighborhood_Somerst\", \"Neighborhood_StoneBr\", \"Neighborhood_Timber\", \"Neighborhood_Veenker\"\n",
      "\n",
      "From column \"Bldg.Type\" we made \"Bldg.Type_2fmCon\", \"Bldg.Type_Duplex\", \"Bldg.Type_Twnhs\", \"Bldg.Type_TwnhsE\"\n",
      "\n",
      "From column \"House.Style\" we made \"House.Style_1.5Unf\", \"House.Style_1Story\", \"House.Style_2.5Fin\", \"House.Style_2.5Unf\", \"House.Style_2Story\", \"House.Style_SFoyer\", \"House.Style_SLvl\"\n",
      "\n",
      "From column \"Roof.Style\" we made \"Roof.Style_Hip\", \"Roof.Style_Other\"\n",
      "\n",
      "From column \"Mas.Vnr.Type\" we made \"Mas.Vnr.Type_Stone\", \"Mas.Vnr.Type_Other\", \"Mas.Vnr.Type_None\"\n",
      "\n",
      "From column \"Foundation\" we made \"Foundation_CBlock\", \"Foundation_PConc\", \"Foundation_Other\"\n",
      "\n",
      "From column \"Bsmt.Qual\" we made \"Bsmt.Qual_Gd\", \"Bsmt.Qual_TA\", \"Bsmt.Qual_Fa\", \"Bsmt.Qual_NA\"\n",
      "\n",
      "From column \"Bsmt.Cond\" we made \"Bsmt.Cond_TA\", \"Bsmt.Cond_Fa\", \"Bsmt.Cond_NA\"\n",
      "\n",
      "From column \"Bsmt.Exposure\" we made \"Bsmt.Exposure_Av\", \"Bsmt.Exposure_Mn\", \"Bsmt.Exposure_No\", \"Bsmt.Exposure_NA\"\n",
      "\n",
      "From column \"BsmtFin.Type.1\" we made \"BsmtFin.Type.1_ALQ\", \"BsmtFin.Type.1_BLQ\", \"BsmtFin.Type.1_Rec\", \"BsmtFin.Type.1_LwQ\", \"BsmtFin.Type.1_Unf\", \"BsmtFin.Type.1_NA\"\n",
      "\n",
      "From column \"BsmtFin.Type.2\" we made \"BsmtFin.Type.2_ALQ\", \"BsmtFin.Type.2_BLQ\", \"BsmtFin.Type.2_Rec\", \"BsmtFin.Type.2_LwQ\", \"BsmtFin.Type.2_Unf\", \"BsmtFin.Type.2_NA\"\n",
      "\n",
      "From column \"Central.Air\" we made \"Central.Air_Y\"\n",
      "\n",
      "From column \"Garage.Type\" we made \"Garage.Type_Attchd\", \"Garage.Type_Basment\", \"Garage.Type_BuiltIn\", \"Garage.Type_CarPort\", \"Garage.Type_Detchd\", \"Garage.Type_NoGarage\"\n",
      "\n",
      "From column \"Garage.Finish\" we made \"Garage.Finish_RFn\", \"Garage.Finish_Unf\", \"Garage.Finish_NoGarage\"\n",
      "\n",
      "From column \"Sale.Type\" we made \"Sale.Type_GroupedWD\", \"Sale.Type_Other\"\n",
      "\n",
      "From column \"Sale.Condition\" we made \"Sale.Condition_AdjLand\", \"Sale.Condition_Alloca\", \"Sale.Condition_Family\", \"Sale.Condition_Normal\", \"Sale.Condition_Partial\"\n",
      "\n",
      "From column \"Condition\" we made \"Condition_Railroad\", \"Condition_Roads\", \"Condition_Positive\", \"Condition_RoadsAndRailroad\"\n",
      "\n",
      "From column \"Exterior\" we made \"Exterior_BrkFace\", \"Exterior_CemntBd\", \"Exterior_HdBoard\", \"Exterior_MetalSd\", \"Exterior_Plywood\", \"Exterior_Stucco\", \"Exterior_VinylSd\", \"Exterior_Wd Sdng\", \"Exterior_WdShing\", \"Exterior_Other\"\n",
      "\n"
     ]
    }
   ],
   "source": [
    "for cat in categorical_columns:\n",
    "    dummies = []\n",
    "    for col in model_data.columns:\n",
    "        if col.startswith(cat + \"_\"):\n",
    "            dummies.append(f'\"{col}\"')\n",
    "    dummies_str = ', '.join(dummies)\n",
    "    print(f'From column \"{cat}\" we made {dummies_str}\\n')"
   ]
  },
  {
   "cell_type": "code",
   "execution_count": 17,
   "metadata": {},
   "outputs": [],
   "source": [
    "X = model_data.drop(columns=['SalePrice']).copy()\n",
    "y = model_data['SalePrice'].copy()"
   ]
  },
  {
   "cell_type": "code",
   "execution_count": 18,
   "metadata": {},
   "outputs": [],
   "source": [
    "from sklearn.model_selection import train_test_split\n",
    "\n",
    "RANDOM_SEED = 42\n",
    "\n",
    "Xtrain, Xtest, ytrain, ytest = train_test_split(\n",
    "    X,\n",
    "    y,\n",
    "    test_size=0.25,\n",
    "    random_state=RANDOM_SEED,\n",
    ")\n"
   ]
  },
  {
   "cell_type": "markdown",
   "metadata": {},
   "source": [
    "Todas as Celulas até essa foram feitas pelo professor para o inicio do trabalho de entrega. A proxima celula representa um modelo extremamente simples de uma uma Regressão Linear feita como base para o trabalho."
   ]
  },
  {
   "cell_type": "code",
   "execution_count": 19,
   "metadata": {},
   "outputs": [
    {
     "name": "stdout",
     "output_type": "stream",
     "text": [
      "Average error is 15.11%\n"
     ]
    }
   ],
   "source": [
    "from sklearn.linear_model import LinearRegression\n",
    "from sklearn.metrics import mean_squared_error\n",
    "\n",
    "model = LinearRegression()\n",
    "\n",
    "model.fit(Xtrain, ytrain)\n",
    "\n",
    "ypred = model.predict(Xtest)\n",
    "\n",
    "RMSE = np.sqrt(mean_squared_error(ytest, ypred))\n",
    "\n",
    "error_percent = 100 * (10**RMSE - 1)\n",
    "print(f'Average error is {error_percent:.2f}%')"
   ]
  },
  {
   "cell_type": "markdown",
   "metadata": {},
   "source": [
    "## Objetivos\n",
    "\n",
    "Neste trabalho, tínhamos como objetivo realizar uma regressão linear para prever o preço de um imóvel com base em suas características. Começamos do básico para desenvolver um modelo capaz de fazer previsões com alta precisão.\n",
    "\n",
    "Optamos por empregar três modelos de regressão linear: `Ridge`, `Lasso` e `ElasticNet`. Cada um desses modelos utiliza diferentes tipos de regularização para aprimorar a precisão das previsões. Contudo, surge a questão: qual tipo de regularização é o mais adequado para nosso conjunto de dados? Para responder a essa pergunta, utilizamos o `GridSearchCV`. Esta ferramenta avalia todas as combinações de parâmetros fornecidas e indica o modelo com melhor desempenho.\n",
    "\n",
    "Na célula a seguir, apresentamos a função que aplica o `GridSearchCV` a cada modelo selecionado, retornando o mais eficiente dentre eles.\n"
   ]
  },
  {
   "cell_type": "code",
   "execution_count": 29,
   "metadata": {},
   "outputs": [],
   "source": [
    "from sklearn.linear_model import Ridge, Lasso, ElasticNet\n",
    "from sklearn.model_selection import GridSearchCV\n",
    "import numpy as np\n",
    "import warnings\n",
    "warnings.filterwarnings('ignore')\n",
    "\n",
    "RANDOM_SEED = 42  # Definindo uma semente aleatória\n",
    "\n",
    "def grid_search_regression(model, param_grid, X, y):\n",
    "    grid_search = GridSearchCV(model, param_grid, cv=5, scoring='neg_mean_squared_error', return_train_score=True)\n",
    "    grid_search.fit(X, y)\n",
    "    best_params = grid_search.best_params_\n",
    "    best_score = np.sqrt(-grid_search.best_score_)\n",
    "    return grid_search.best_estimator_, best_params, best_score\n",
    "\n",
    "\n",
    "# Alphas para serem testados\n",
    "alphas = np.logspace(-6, 6, 13)"
   ]
  },
  {
   "cell_type": "markdown",
   "metadata": {},
   "source": [
    "Abaixo vamos fazer os testes com varios parametros de regularização para cada um dos modelos e ver qual deles tem a melhor precisão."
   ]
  },
  {
   "cell_type": "markdown",
   "metadata": {},
   "source": [
    "### Usando Grid Search para encontrar os melhores parâmetros para o modelo de `Ridge`."
   ]
  },
  {
   "cell_type": "code",
   "execution_count": 21,
   "metadata": {},
   "outputs": [
    {
     "name": "stdout",
     "output_type": "stream",
     "text": [
      "alphas: [1.e-06 1.e-05 1.e-04 1.e-03 1.e-02 1.e-01 1.e+00 1.e+01 1.e+02 1.e+03\n",
      " 1.e+04 1.e+05 1.e+06]\n",
      "Best parameters for Ridge: {'alpha': 5.526315789473684}, Best RMSE score: 0.05756291176968963\n"
     ]
    }
   ],
   "source": [
    "# Primeira busca em grade com uma faixa mais ampla de alphas\n",
    "\n",
    "print(f'alphas: {alphas}')\n",
    "param_grid_ridge = {'alpha': alphas}\n",
    "model_ridge, best_ridge_params, best_ridge_score = grid_search_regression(Ridge(random_state=RANDOM_SEED), param_grid_ridge, Xtrain, ytrain)\n",
    "\n",
    "# Refinamento da busca em grade com uma faixa mais estreita de alphas\n",
    "alphas_fine = np.linspace(best_ridge_params['alpha']*0.5, best_ridge_params['alpha']*1.5, 20)\n",
    "param_grid_ridge_fine = {'alpha': alphas_fine}\n",
    "model_ridge, best_ridge_params_fine, best_ridge_score_fine = grid_search_regression(Ridge(random_state=RANDOM_SEED), param_grid_ridge_fine, Xtrain, ytrain)\n",
    "\n",
    "print(f\"Best parameters for Ridge: {best_ridge_params_fine}, Best RMSE score: {best_ridge_score_fine}\")"
   ]
  },
  {
   "cell_type": "markdown",
   "metadata": {},
   "source": [
    "### Usando Grid Search para encontrar os melhores parâmetros para o modelo de `Lasso`."
   ]
  },
  {
   "cell_type": "code",
   "execution_count": 22,
   "metadata": {},
   "outputs": [
    {
     "name": "stdout",
     "output_type": "stream",
     "text": [
      "Best parameters for Lasso: {'alpha': 7.105263157894737e-05}, Best RMSE score: 0.05757642089954971\n"
     ]
    }
   ],
   "source": [
    "param_grid_lasso = {'alpha': alphas}\n",
    "model_lasso, best_lasso_params, best_lasso_score = grid_search_regression(Lasso(random_state=RANDOM_SEED), param_grid_lasso, Xtrain, ytrain)\n",
    "\n",
    "alphas_fine = np.linspace(best_lasso_params['alpha']*0.5, best_lasso_params['alpha']*1.5, 20)\n",
    "param_grid_lasso_fine = {'alpha': alphas_fine}\n",
    "model_lasso, best_lasso_params_fine, best_lasso_score_fine = grid_search_regression(Lasso(random_state=RANDOM_SEED), param_grid_lasso_fine, Xtrain, ytrain)\n",
    "\n",
    "print(f\"Best parameters for Lasso: {best_lasso_params_fine}, Best RMSE score: {best_lasso_score_fine}\")"
   ]
  },
  {
   "cell_type": "markdown",
   "metadata": {},
   "source": [
    "### Usando Grid Search para encontrar os melhores parâmetros para o modelo de `ElasticNet`."
   ]
  },
  {
   "cell_type": "code",
   "execution_count": 23,
   "metadata": {},
   "outputs": [
    {
     "name": "stdout",
     "output_type": "stream",
     "text": [
      "Best parameters for Elastic Net: {'alpha': 0.00013947368421052633, 'l1_ratio': 0.5}, Best RMSE score: 0.057571966986127314\n"
     ]
    }
   ],
   "source": [
    "param_grid_elastic_net = {'alpha': alphas, 'l1_ratio': [0.1, 0.3, 0.5, 0.7, 0.9]}\n",
    "model_en, best_elastic_net_params, best_elastic_net_score = grid_search_regression(ElasticNet(random_state=RANDOM_SEED), param_grid_elastic_net, Xtrain, ytrain)\n",
    "\n",
    "alphas_fine = np.linspace(best_elastic_net_params['alpha']*0.5, best_elastic_net_params['alpha']*1.5, 20)\n",
    "param_grid_elastic_net_fine = {'alpha': alphas_fine, 'l1_ratio': [0.1, 0.3, 0.5, 0.7, 0.9]}\n",
    "model_en, best_elastic_net_params_fine, best_elastic_net_score_fine = grid_search_regression(ElasticNet(random_state=RANDOM_SEED), param_grid_elastic_net_fine, Xtrain, ytrain)\n",
    "\n",
    "\n",
    "print(f\"Best parameters for Elastic Net: {best_elastic_net_params_fine}, Best RMSE score: {best_elastic_net_score_fine}\")"
   ]
  },
  {
   "cell_type": "code",
   "execution_count": 24,
   "metadata": {},
   "outputs": [
    {
     "name": "stdout",
     "output_type": "stream",
     "text": [
      "Average error (Ridge) is 14.19%\n",
      "Average error (Ridge with fine tuning) is 14.17%\n",
      "---------------------------------------------------------------\n",
      "Average error (Lasso) is 14.19%\n",
      "Average error (Lasso with fine tuning) is 14.18%\n",
      "---------------------------------------------------------------\n",
      "Average error (Elastic Net) is 14.18%\n",
      "Average error (Elastic Net with fine tuning) is 14.18%\n"
     ]
    }
   ],
   "source": [
    "error_percent = 100 * (10**best_ridge_score - 1)\n",
    "print(f'Average error (Ridge) is {error_percent:.2f}%')\n",
    "error_percent = 100 * (10**best_ridge_score_fine - 1)\n",
    "print(f'Average error (Ridge with fine tuning) is {error_percent:.2f}%')\n",
    "print(\"---------------------------------------------------------------\")\n",
    "\n",
    "error_percent = 100 * (10**best_lasso_score - 1)\n",
    "print(f'Average error (Lasso) is {error_percent:.2f}%')\n",
    "error_percent = 100 * (10**best_lasso_score_fine - 1)\n",
    "print(f'Average error (Lasso with fine tuning) is {error_percent:.2f}%')\n",
    "print(\"---------------------------------------------------------------\")\n",
    "\n",
    "error_percent = 100 * (10**best_elastic_net_score - 1)\n",
    "print(f'Average error (Elastic Net) is {error_percent:.2f}%')\n",
    "error_percent = 100 * (10**best_elastic_net_score_fine - 1)\n",
    "print(f'Average error (Elastic Net with fine tuning) is {error_percent:.2f}%')"
   ]
  },
  {
   "cell_type": "markdown",
   "metadata": {},
   "source": [
    "### Testando os modelos com os parâmetros encontrados pelo GridSearchCV no conjunto de teste."
   ]
  },
  {
   "cell_type": "code",
   "execution_count": 25,
   "metadata": {},
   "outputs": [
    {
     "name": "stdout",
     "output_type": "stream",
     "text": [
      "Average error (Ridge) is 15.21%\n",
      "Average error (Lasso) is 15.31%\n",
      "Average error (Elastic Net) is 15.31%\n"
     ]
    }
   ],
   "source": [
    "ypred_ridge = model_ridge.predict(Xtest)\n",
    "ypred_lasso = model_lasso.predict(Xtest)\n",
    "ypred_en = model_en.predict(Xtest)\n",
    "\n",
    "RMSE_ridge = np.sqrt(mean_squared_error(ytest, ypred_ridge))\n",
    "RMSE_lasso = np.sqrt(mean_squared_error(ytest, ypred_lasso))    \n",
    "RMSE_en = np.sqrt(mean_squared_error(ytest, ypred_en))\n",
    "\n",
    "error_percent_ridge = 100 * (10**RMSE_ridge - 1)\n",
    "error_percent_lasso = 100 * (10**RMSE_lasso - 1)\n",
    "error_percent_en = 100 * (10**RMSE_en - 1)\n",
    "\n",
    "print(f'Average error (Ridge) is {error_percent_ridge:.2f}%')\n",
    "print(f'Average error (Lasso) is {error_percent_lasso:.2f}%')\n",
    "print(f'Average error (Elastic Net) is {error_percent_en:.2f}%')"
   ]
  },
  {
   "cell_type": "markdown",
   "metadata": {},
   "source": [
    "## Conclusão dos resultados\n",
    "\n",
    "Após conseguirmos os melhores parametros e testar com o cv, decidimos testar com o conjunto inteiro de teste para ver qual modelo teve a melhor precisão.\n",
    "\n",
    "Podemos perceber que não tem muita diferença entre os modelos, mas o modelo de `Ridge` foi o que teve a melhor precisão, mas podemos realmente dizer isso? Podemos ver que o resultado é melhor, mas por muito pouco, por isso precisamos ver se eles tem uma diferença estatisticamente significativa.\n",
    "\n",
    "Para vermos se existe uma diferença estatisticamente significativa entre os modelos vamos usar o teste de hipotese de `Wilcoxon` que é um teste não parametrico que testa se existe uma diferença estatisticamente significativa entre dois modelos."
   ]
  },
  {
   "cell_type": "markdown",
   "metadata": {},
   "source": [
    "# Comparando os resultados de cada modelo no conjunto de teste"
   ]
  },
  {
   "cell_type": "code",
   "execution_count": 26,
   "metadata": {},
   "outputs": [
    {
     "name": "stdout",
     "output_type": "stream",
     "text": [
      "A diferença entre os modelos Ridge e Lasso não é significativa, pvalue: 43.89%\n"
     ]
    }
   ],
   "source": [
    "# make a ttest to see if the difference between the two models is significant\n",
    "from scipy.stats import ttest_rel\n",
    "\n",
    "ypred_ridge = model_ridge.predict(Xtest)\n",
    "ypred_lasso = model_lasso.predict(Xtest)\n",
    "\n",
    "pvalue = ttest_rel(ypred_ridge, ypred_lasso).pvalue\n",
    "\n",
    "if pvalue < 0.05:\n",
    "    print(f'A diferença entre os modelos Ridge e Lasso é significativa, pvalue: {pvalue*100:.2f}%')\n",
    "else:\n",
    "    print(f'A diferença entre os modelos Ridge e Lasso não é significativa, pvalue: {pvalue*100:.2f}%')"
   ]
  },
  {
   "cell_type": "code",
   "execution_count": 27,
   "metadata": {},
   "outputs": [
    {
     "name": "stdout",
     "output_type": "stream",
     "text": [
      "A diferença entre os modelos Ridge e Elastic net não é significativa, pvalue: 41.98%\n"
     ]
    }
   ],
   "source": [
    "\n",
    "# make a ttest to see if the difference between the two models is significant\n",
    "from scipy.stats import ttest_rel\n",
    "\n",
    "ypred_ridge = model_ridge.predict(Xtest)\n",
    "ypred_lasso = model_en.predict(Xtest)\n",
    "\n",
    "pvalue = ttest_rel(ypred_ridge, ypred_lasso).pvalue\n",
    "\n",
    "if pvalue < 0.05:\n",
    "    print(f'A diferença entre os modelos Ridge e Elastic net é significativa, pvalue: {pvalue*100:.2f}%')\n",
    "else:\n",
    "    print(f'A diferença entre os modelos Ridge e Elastic net não é significativa, pvalue: {pvalue*100:.2f}%')"
   ]
  },
  {
   "cell_type": "code",
   "execution_count": 28,
   "metadata": {},
   "outputs": [
    {
     "name": "stdout",
     "output_type": "stream",
     "text": [
      "A diferença entre os modelos Lasso e Elastic net não é significativa, pvalue: 45.93%\n"
     ]
    }
   ],
   "source": [
    "\n",
    "# make a ttest to see if the difference between the two models is significant\n",
    "from scipy.stats import ttest_rel\n",
    "\n",
    "ypred_ridge = model_lasso.predict(Xtest)\n",
    "ypred_lasso = model_en.predict(Xtest)\n",
    "\n",
    "pvalue = ttest_rel(ypred_ridge, ypred_lasso).pvalue\n",
    "\n",
    "if pvalue < 0.05:\n",
    "    print(f'A diferença entre os modelos Lasso e Elastic net é significativa, pvalue: {pvalue*100:.2f}%')\n",
    "else:\n",
    "    print(f'A diferença entre os modelos Lasso e Elastic net não é significativa, pvalue: {pvalue*100:.2f}%')"
   ]
  },
  {
   "cell_type": "markdown",
   "metadata": {},
   "source": [
    "## Conclusão da Análise de Modelos\n",
    "\n",
    "Nesta análise, exploramos três modelos de regressão com regularização: `Ridge`, `Lasso` e `ElasticNet` . Cada modelo foi cuidadosamente ajustado e validado usando uma busca em grade para determinar os hiperparâmetros que minimizam o erro de validação cruzada. A performance de cada modelo foi avaliada usando o Root Mean Square Error (RMSE), permitindo uma comparação objetiva baseada na precisão das previsões.\n",
    "\n",
    "Observou-se que o modelo Ridge apresentou um desempenho ligeiramente melhor em comparação com os modelos Lasso e ElasticNet, com base no erro percentual médio no conjunto de teste. No entanto, é essencial notar que as diferenças no desempenho entre os modelos `não foram estatisticamente significativas`, conforme evidenciado pelos testes t pareados. Isso sugere que, apesar das diferenças observadas, não há uma confirmação estatística robusta de que o modelo Ridge seja superior.\n",
    "\n",
    "Além disso, é importante considerar que apenas um subconjunto de modelos de regressão foi explorado nesta análise. A escolha de usar Ridge, Lasso e ElasticNet foi fundamentada e lógica, dado o contexto e os dados, mas existem muitos outros modelos e técnicas que poderiam ser considerados. A ausência de uma comparação com outros tipos de modelos, como modelos de ensemble, regressão polinomial, ou modelos baseados em árvores, significa que não podemos afirmar conclusivamente que o modelo Ridge, ou qualquer um dos modelos testados, proporcionará os melhores resultados em cenários futuros ou com novos dados.\n",
    "\n",
    "Em conclusão, enquanto o modelo Ridge mostrou um desempenho marginalmente melhor nesta análise, a diferença não foi estatisticamente significativa e, dado o escopo poderiamos sugerir uma serie de melhorias, como usar modelos melhores de regressão, ou até mesmo fazer uma nova analise dos dados e feature engineering para melhorar o modelo `(Importante ressaltar que usamos um modelo de dados pré-processados já fornecidos pelo professor, não fizemos quaisquer alterações nos dados)`.\n",
    "\n",
    "- Texto com ajuda de `Chat-GPT`"
   ]
  }
 ],
 "metadata": {
  "kernelspec": {
   "display_name": "Python 3",
   "language": "python",
   "name": "python3"
  },
  "language_info": {
   "codemirror_mode": {
    "name": "ipython",
    "version": 3
   },
   "file_extension": ".py",
   "mimetype": "text/x-python",
   "name": "python",
   "nbconvert_exporter": "python",
   "pygments_lexer": "ipython3",
   "version": "3.10.10"
  },
  "orig_nbformat": 4
 },
 "nbformat": 4,
 "nbformat_minor": 2
}
