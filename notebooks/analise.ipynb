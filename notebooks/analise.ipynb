{
 "cells": [
  {
   "cell_type": "code",
   "execution_count": 7,
   "metadata": {},
   "outputs": [],
   "source": [
    "import pickle\n",
    "import pathlib\n",
    "from sklearn.model_selection import train_test_split\n",
    "import pandas as pd\n",
    "\n",
    "def get_data():\n",
    "    DATA_DIR = pathlib.Path.cwd().parent / 'data'\n",
    "    print(DATA_DIR)\n",
    "\n",
    "    clean_data_path = DATA_DIR / 'processed' / 'ames_clean.pkl'\n",
    "    with open(clean_data_path, 'rb') as file:\n",
    "        data = pickle.load(file)\n",
    "\n",
    "    model_data = data.copy()\n",
    "\n",
    "    categorical_columns = []\n",
    "    ordinal_columns = []\n",
    "    for col in model_data.select_dtypes('category').columns:\n",
    "        if model_data[col].cat.ordered:\n",
    "            ordinal_columns.append(col)\n",
    "        else:\n",
    "            categorical_columns.append(col)\n",
    "\n",
    "    for col in ordinal_columns:\n",
    "        codes, _ = pd.factorize(data[col], sort=True)\n",
    "        model_data[col] = codes\n",
    "\n",
    "    original_data = model_data['Exterior']\n",
    "    encoded_data = pd.get_dummies(original_data, drop_first=True)\n",
    "\n",
    "    aux_dataframe = encoded_data\n",
    "    aux_dataframe['Exterior'] = original_data.copy()\n",
    "\n",
    "\n",
    "\n",
    "    model_data = pd.get_dummies(model_data, drop_first=True)\n",
    "\n",
    "    X = model_data.drop(columns=['SalePrice']).copy()\n",
    "    y = model_data['SalePrice'].copy()\n",
    "\n",
    "\n",
    "    Xtrain, Xtest, ytrain, ytest = train_test_split(\n",
    "        X,\n",
    "        y,\n",
    "        test_size=0.25,\n",
    "        random_state=42,\n",
    "    )\n",
    "\n",
    "    return Xtrain, Xtest, ytrain, ytest\n"
   ]
  },
  {
   "cell_type": "code",
   "execution_count": 8,
   "metadata": {},
   "outputs": [
    {
     "name": "stdout",
     "output_type": "stream",
     "text": [
      "/Users/marcelomarchetto/Desktop/projetinho ml/data\n"
     ]
    }
   ],
   "source": [
    "Xtrain, Xtest, ytrain, ytest = get_data()"
   ]
  },
  {
   "cell_type": "markdown",
   "metadata": {},
   "source": [
    "# Pipeline com scalers"
   ]
  },
  {
   "cell_type": "code",
   "execution_count": 9,
   "metadata": {},
   "outputs": [],
   "source": [
    "from sklearn.pipeline import Pipeline\n",
    "from sklearn.linear_model import LinearRegression\n",
    "from sklearn.preprocessing import StandardScaler, PolynomialFeatures    \n",
    "\n",
    "pipe = Pipeline([\n",
    "    # (\"scaler\", StandardScaler()),\n",
    "    # (\"poly\", PolynomialFeatures(degree=2, include_bias=False)),\n",
    "    (\"model\", LinearRegression()),\n",
    "])\n"
   ]
  },
  {
   "cell_type": "code",
   "execution_count": 10,
   "metadata": {},
   "outputs": [
    {
     "name": "stdout",
     "output_type": "stream",
     "text": [
      "RMSE: 0.061127758761017816\n",
      "Average error is 15.11%\n"
     ]
    }
   ],
   "source": [
    "y_pred = pipe.fit(Xtrain, ytrain).predict(Xtest)\n",
    "\n",
    "from sklearn.metrics import mean_squared_error\n",
    "import numpy as np\n",
    "\n",
    "RMSE = np.sqrt(mean_squared_error(ytest, y_pred))\n",
    "print(f\"RMSE: {RMSE}\")\n",
    "\n",
    "error_percent = 100 * (10**RMSE - 1)\n",
    "print(f'Average error is {error_percent:.2f}%')"
   ]
  },
  {
   "cell_type": "markdown",
   "metadata": {},
   "source": [
    "# Pipeline testando Ridge, Lasso e ElasticNet"
   ]
  },
  {
   "cell_type": "code",
   "execution_count": 11,
   "metadata": {},
   "outputs": [],
   "source": [
    "from sklearn.pipeline import Pipeline\n",
    "from sklearn.linear_model import  Ridge, Lasso, ElasticNet\n",
    "from sklearn.preprocessing import StandardScaler, PolynomialFeatures    \n",
    "\n",
    "pipe = Pipeline([\n",
    "    # (\"scaler\", StandardScaler()),\n",
    "    # (\"poly\", PolynomialFeatures(degree=2)),\n",
    "    (\"model\", Ridge()),\n",
    "])"
   ]
  },
  {
   "cell_type": "code",
   "execution_count": 12,
   "metadata": {},
   "outputs": [
    {
     "name": "stdout",
     "output_type": "stream",
     "text": [
      "RMSE: 0.061075854853779525\n",
      "Average error is 15.10%\n"
     ]
    }
   ],
   "source": [
    "y_pred = pipe.fit(Xtrain, ytrain).predict(Xtest)\n",
    "\n",
    "from sklearn.metrics import mean_squared_error\n",
    "import numpy as np\n",
    "\n",
    "RMSE = np.sqrt(mean_squared_error(ytest, y_pred))\n",
    "print(f\"RMSE: {RMSE}\")\n",
    "\n",
    "error_percent = 100 * (10**RMSE - 1)\n",
    "print(f'Average error is {error_percent:.2f}%')"
   ]
  },
  {
   "cell_type": "markdown",
   "metadata": {},
   "source": [
    "# Pipeline com Random Forest"
   ]
  },
  {
   "cell_type": "code",
   "execution_count": 13,
   "metadata": {},
   "outputs": [],
   "source": [
    "from sklearn.pipeline import Pipeline\n",
    "\n",
    "from sklearn.ensemble import RandomForestRegressor\n",
    "from sklearn.preprocessing import StandardScaler, PolynomialFeatures    \n",
    "\n",
    "pipe = Pipeline([\n",
    "    # (\"scaler\", StandardScaler()),\n",
    "    (\"poly\", PolynomialFeatures(degree=3, include_bias=False)),\n",
    "    (\"model\", RandomForestRegressor()),\n",
    "])"
   ]
  },
  {
   "cell_type": "code",
   "execution_count": 14,
   "metadata": {},
   "outputs": [],
   "source": [
    "y_pred = pipe.fit(Xtrain, ytrain).predict(Xtest)\n",
    "\n",
    "from sklearn.metrics import mean_squared_error\n",
    "import numpy as np\n",
    "\n",
    "RMSE = np.sqrt(mean_squared_error(ytest, y_pred))\n",
    "print(f\"RMSE: {RMSE}\")\n",
    "\n",
    "error_percent = 100 * (10**RMSE - 1)\n",
    "\n",
    "print(f'Average error is {error_percent:.2f}%')"
   ]
  },
  {
   "cell_type": "markdown",
   "metadata": {},
   "source": [
    "otimizacao de hiper params\n"
   ]
  }
 ],
 "metadata": {
  "kernelspec": {
   "display_name": "env",
   "language": "python",
   "name": "python3"
  },
  "language_info": {
   "codemirror_mode": {
    "name": "ipython",
    "version": 3
   },
   "file_extension": ".py",
   "mimetype": "text/x-python",
   "name": "python",
   "nbconvert_exporter": "python",
   "pygments_lexer": "ipython3",
   "version": "3.11.1"
  }
 },
 "nbformat": 4,
 "nbformat_minor": 2
}
